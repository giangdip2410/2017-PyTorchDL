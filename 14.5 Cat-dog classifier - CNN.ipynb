{
 "cells": [
  {
   "cell_type": "code",
   "execution_count": 1,
   "metadata": {},
   "outputs": [],
   "source": [
    "import torch\n",
    "import torch.nn as nn\n",
    "from torch.autograd import Variable\n",
    "import torch.nn.functional as F\n",
    "import torch.utils.data as Data  \n",
    "import matplotlib.pyplot as plt"
   ]
  },
  {
   "cell_type": "code",
   "execution_count": 2,
   "metadata": {},
   "outputs": [],
   "source": [
    "BATCH_SIZE = 40\n",
    "EPOCH = 1"
   ]
  },
  {
   "cell_type": "markdown",
   "metadata": {},
   "source": [
    "# Load the input tensor we saved in earlier practice"
   ]
  },
  {
   "cell_type": "code",
   "execution_count": 3,
   "metadata": {},
   "outputs": [],
   "source": [
    "train_x = torch.load('./train_x.tensor')  \n",
    "train_y = torch.load('./train_y.tensor')  "
   ]
  },
  {
   "cell_type": "code",
   "execution_count": 4,
   "metadata": {},
   "outputs": [
    {
     "data": {
      "text/plain": [
       "torch.Size([400, 80, 80, 3])"
      ]
     },
     "execution_count": 4,
     "metadata": {},
     "output_type": "execute_result"
    }
   ],
   "source": [
    "train_x.shape"
   ]
  },
  {
   "cell_type": "code",
   "execution_count": 5,
   "metadata": {},
   "outputs": [
    {
     "data": {
      "text/plain": [
       "torch.Size([400, 1])"
      ]
     },
     "execution_count": 5,
     "metadata": {},
     "output_type": "execute_result"
    }
   ],
   "source": [
    "train_y.shape"
   ]
  },
  {
   "cell_type": "markdown",
   "metadata": {},
   "source": [
    "# Reshape train_x"
   ]
  },
  {
   "cell_type": "code",
   "execution_count": 6,
   "metadata": {},
   "outputs": [],
   "source": [
    "train_x = train_x.view(400, 3, 80, 80)"
   ]
  },
  {
   "cell_type": "markdown",
   "metadata": {},
   "source": [
    "# Reshape train_y from 25000x1 to 25000"
   ]
  },
  {
   "cell_type": "code",
   "execution_count": 7,
   "metadata": {},
   "outputs": [],
   "source": [
    "train_y = train_y.view(400)"
   ]
  },
  {
   "cell_type": "code",
   "execution_count": 8,
   "metadata": {},
   "outputs": [
    {
     "data": {
      "text/plain": [
       "torch.Size([400])"
      ]
     },
     "execution_count": 8,
     "metadata": {},
     "output_type": "execute_result"
    }
   ],
   "source": [
    "train_y.shape"
   ]
  },
  {
   "cell_type": "markdown",
   "metadata": {},
   "source": [
    "# Build tensor data set and data loader "
   ]
  },
  {
   "cell_type": "code",
   "execution_count": 9,
   "metadata": {},
   "outputs": [],
   "source": [
    "train_x = train_x.type(torch.FloatTensor)"
   ]
  },
  {
   "cell_type": "code",
   "execution_count": 10,
   "metadata": {},
   "outputs": [],
   "source": [
    "train_y = train_y.type(torch.LongTensor)"
   ]
  },
  {
   "cell_type": "code",
   "execution_count": 11,
   "metadata": {},
   "outputs": [],
   "source": [
    "torch_dataset = Data.TensorDataset(data_tensor=train_x, target_tensor=train_y)"
   ]
  },
  {
   "cell_type": "code",
   "execution_count": 12,
   "metadata": {},
   "outputs": [],
   "source": [
    "loader = Data.DataLoader(\n",
    "    dataset=torch_dataset,     # torch TensorDataset format\n",
    "    batch_size=BATCH_SIZE,       # mini batch size\n",
    "    shuffle=True,               # random shuffle for training\n",
    "    num_workers=2,              # subprocesses for loading data\n",
    ")"
   ]
  },
  {
   "cell_type": "markdown",
   "metadata": {},
   "source": [
    "# Define and build CNN"
   ]
  },
  {
   "cell_type": "code",
   "execution_count": 13,
   "metadata": {},
   "outputs": [
    {
     "data": {
      "text/plain": [
       "torch.Size([400, 3, 80, 80])"
      ]
     },
     "execution_count": 13,
     "metadata": {},
     "output_type": "execute_result"
    }
   ],
   "source": [
    "train_x.shape"
   ]
  },
  {
   "cell_type": "code",
   "execution_count": 14,
   "metadata": {},
   "outputs": [],
   "source": [
    "class CNN(nn.Module):\n",
    "    def __init__(self):\n",
    "        super(CNN, self).__init__()\n",
    "        self.conv1 = nn.Sequential(         # input shape (3, 80, 80)\n",
    "            nn.Conv2d(\n",
    "                in_channels=3,              # input height\n",
    "                out_channels=12,            # n_filters\n",
    "                kernel_size=5,              # filter size\n",
    "                stride=1,                   # filter movement/step\n",
    "                padding=2,                  # if want same width and length of this image after con2d, padding=(kernel_size-1)/2 if stride=1\n",
    "            ),                              # output shape (12, 40, 40)\n",
    "            nn.ReLU(),                      # activation\n",
    "            nn.MaxPool2d(kernel_size=2),    # choose max value in 2x2 area, output shape (12, 40, 40)\n",
    "        )\n",
    "        self.conv2 = nn.Sequential(         # input shape (12, 40, 40)\n",
    "            nn.Conv2d(12, 36, 5, 1, 2),      # n_filter = 3*12 = 36, output shape (36, 40, 40)\n",
    "            nn.ReLU(),                      # activation\n",
    "            nn.MaxPool2d(2),                # output shape (36, 20, 20)\n",
    "        )\n",
    "        self.out = nn.Linear(14400, 2) # fully connected layer, output 2 classes\n",
    "\n",
    "    def forward(self, x):\n",
    "        x = self.conv1(x)\n",
    "        x = self.conv2(x)\n",
    "        x = x.view(x.size(0), -1)           # flatten the output of conv2 to (batch_size, 32 * 7 * 7)\n",
    "        output = self.out(x)\n",
    "        return output, x    # return x for visualization"
   ]
  },
  {
   "cell_type": "code",
   "execution_count": 15,
   "metadata": {},
   "outputs": [],
   "source": [
    "cnn = CNN()"
   ]
  },
  {
   "cell_type": "code",
   "execution_count": 16,
   "metadata": {},
   "outputs": [
    {
     "data": {
      "text/plain": [
       "CNN(\n",
       "  (conv1): Sequential(\n",
       "    (0): Conv2d(3, 12, kernel_size=(5, 5), stride=(1, 1), padding=(2, 2))\n",
       "    (1): ReLU()\n",
       "    (2): MaxPool2d(kernel_size=(2, 2), stride=(2, 2), dilation=(1, 1), ceil_mode=False)\n",
       "  )\n",
       "  (conv2): Sequential(\n",
       "    (0): Conv2d(12, 36, kernel_size=(5, 5), stride=(1, 1), padding=(2, 2))\n",
       "    (1): ReLU()\n",
       "    (2): MaxPool2d(kernel_size=(2, 2), stride=(2, 2), dilation=(1, 1), ceil_mode=False)\n",
       "  )\n",
       "  (out): Linear(in_features=14400, out_features=2, bias=True)\n",
       ")"
      ]
     },
     "execution_count": 16,
     "metadata": {},
     "output_type": "execute_result"
    }
   ],
   "source": [
    "cnn"
   ]
  },
  {
   "cell_type": "code",
   "execution_count": 17,
   "metadata": {},
   "outputs": [],
   "source": [
    "optimizer = torch.optim.SGD(cnn.parameters(), lr=0.02)"
   ]
  },
  {
   "cell_type": "code",
   "execution_count": 18,
   "metadata": {},
   "outputs": [],
   "source": [
    "loss_func = torch.nn.CrossEntropyLoss()"
   ]
  },
  {
   "cell_type": "markdown",
   "metadata": {},
   "source": [
    "# Run one training epoc step by step to examine the variable  "
   ]
  },
  {
   "cell_type": "code",
   "execution_count": 19,
   "metadata": {},
   "outputs": [],
   "source": [
    "# get one batch of data\n",
    "for step, (batch_x, batch_y) in enumerate(loader):\n",
    "    break;"
   ]
  },
  {
   "cell_type": "code",
   "execution_count": 20,
   "metadata": {},
   "outputs": [
    {
     "data": {
      "text/plain": [
       "0"
      ]
     },
     "execution_count": 20,
     "metadata": {},
     "output_type": "execute_result"
    }
   ],
   "source": [
    "step"
   ]
  },
  {
   "cell_type": "code",
   "execution_count": 21,
   "metadata": {},
   "outputs": [
    {
     "name": "stdout",
     "output_type": "stream",
     "text": [
      "torch.Size([40, 3, 80, 80]) torch.Size([40])\n"
     ]
    }
   ],
   "source": [
    "print(batch_x.shape, batch_y.shape)"
   ]
  },
  {
   "cell_type": "code",
   "execution_count": 22,
   "metadata": {},
   "outputs": [],
   "source": [
    "batch_x = Variable(batch_x)\n",
    "batch_y = Variable(batch_y)"
   ]
  },
  {
   "cell_type": "code",
   "execution_count": 23,
   "metadata": {},
   "outputs": [],
   "source": [
    "out = cnn(batch_x)"
   ]
  },
  {
   "cell_type": "code",
   "execution_count": 24,
   "metadata": {},
   "outputs": [
    {
     "data": {
      "text/plain": [
       "(Variable containing:\n",
       " -14.2637   3.1652\n",
       " -15.2413  -7.0147\n",
       "  -9.9537  -5.6020\n",
       " -21.1664  -6.3521\n",
       " -13.4178  -7.5347\n",
       " -13.7158  -6.8799\n",
       " -16.8532  -2.0573\n",
       " -15.2439   9.4118\n",
       " -16.0836  -3.8639\n",
       " -25.0323  -3.5284\n",
       " -12.3097  -2.0575\n",
       " -15.7646  -0.4734\n",
       " -11.5320  -0.5593\n",
       " -13.7512  -7.5303\n",
       " -17.2823  -2.5499\n",
       " -11.2805  -0.0536\n",
       " -13.3761  -2.4788\n",
       "  -8.7061   2.1706\n",
       " -22.3941  -8.5999\n",
       " -11.7976  -2.3974\n",
       " -16.0441  -9.8213\n",
       " -11.0640  -0.0371\n",
       "  -8.8809  -1.2715\n",
       " -12.1680  -6.4423\n",
       " -17.4589  -8.5322\n",
       " -10.9814   4.1376\n",
       " -15.9178  -5.0377\n",
       " -10.0057   0.6460\n",
       " -21.3824  -5.3383\n",
       "  -6.9207  -3.7532\n",
       " -19.3837   0.7918\n",
       " -15.4775  -0.2395\n",
       "  -7.1058  -7.7887\n",
       " -15.1280  -1.7614\n",
       "  -9.4053   4.0474\n",
       " -13.9207   0.5427\n",
       " -16.8784  -2.6423\n",
       " -14.5297   1.0223\n",
       " -18.5430  -3.2050\n",
       "  -8.2019   0.3173\n",
       " [torch.FloatTensor of size 40x2], Variable containing:\n",
       "   25.9010   44.6606   40.4488  ...     0.0000    0.0000    0.0000\n",
       "   33.4762   40.8204   17.4253  ...    19.1678   20.1235    7.2084\n",
       "   53.4541   52.4807   17.5921  ...    14.0484   18.7016    9.9329\n",
       "              ...                ⋱                ...             \n",
       "   32.3495   40.6564   31.8827  ...     0.0000    0.0000    5.1389\n",
       "   57.4514   63.1333   46.6100  ...     4.3267   17.5415   12.0361\n",
       "   25.7571   37.9261   31.6553  ...     0.0000    0.0000    5.8755\n",
       " [torch.FloatTensor of size 40x14400])"
      ]
     },
     "execution_count": 24,
     "metadata": {},
     "output_type": "execute_result"
    }
   ],
   "source": [
    "out"
   ]
  },
  {
   "cell_type": "code",
   "execution_count": 25,
   "metadata": {},
   "outputs": [
    {
     "data": {
      "text/plain": [
       "Variable containing:\n",
       "-14.2637   3.1652\n",
       "-15.2413  -7.0147\n",
       " -9.9537  -5.6020\n",
       "-21.1664  -6.3521\n",
       "-13.4178  -7.5347\n",
       "-13.7158  -6.8799\n",
       "-16.8532  -2.0573\n",
       "-15.2439   9.4118\n",
       "-16.0836  -3.8639\n",
       "-25.0323  -3.5284\n",
       "-12.3097  -2.0575\n",
       "-15.7646  -0.4734\n",
       "-11.5320  -0.5593\n",
       "-13.7512  -7.5303\n",
       "-17.2823  -2.5499\n",
       "-11.2805  -0.0536\n",
       "-13.3761  -2.4788\n",
       " -8.7061   2.1706\n",
       "-22.3941  -8.5999\n",
       "-11.7976  -2.3974\n",
       "-16.0441  -9.8213\n",
       "-11.0640  -0.0371\n",
       " -8.8809  -1.2715\n",
       "-12.1680  -6.4423\n",
       "-17.4589  -8.5322\n",
       "-10.9814   4.1376\n",
       "-15.9178  -5.0377\n",
       "-10.0057   0.6460\n",
       "-21.3824  -5.3383\n",
       " -6.9207  -3.7532\n",
       "-19.3837   0.7918\n",
       "-15.4775  -0.2395\n",
       " -7.1058  -7.7887\n",
       "-15.1280  -1.7614\n",
       " -9.4053   4.0474\n",
       "-13.9207   0.5427\n",
       "-16.8784  -2.6423\n",
       "-14.5297   1.0223\n",
       "-18.5430  -3.2050\n",
       " -8.2019   0.3173\n",
       "[torch.FloatTensor of size 40x2]"
      ]
     },
     "execution_count": 25,
     "metadata": {},
     "output_type": "execute_result"
    }
   ],
   "source": [
    "out[0]"
   ]
  },
  {
   "cell_type": "code",
   "execution_count": 26,
   "metadata": {},
   "outputs": [
    {
     "name": "stdout",
     "output_type": "stream",
     "text": [
      "Variable containing:\n",
      " 5.6483\n",
      "[torch.FloatTensor of size 1]\n",
      "\n"
     ]
    }
   ],
   "source": [
    "loss = loss_func(out[0], batch_y)\n",
    "print(loss)"
   ]
  },
  {
   "cell_type": "code",
   "execution_count": 27,
   "metadata": {},
   "outputs": [
    {
     "data": {
      "text/plain": [
       "5.648260593414307"
      ]
     },
     "execution_count": 27,
     "metadata": {},
     "output_type": "execute_result"
    }
   ],
   "source": [
    "loss.data[0]"
   ]
  },
  {
   "cell_type": "markdown",
   "metadata": {},
   "source": [
    "# Train the MLP "
   ]
  },
  {
   "cell_type": "code",
   "execution_count": 28,
   "metadata": {},
   "outputs": [
    {
     "name": "stdout",
     "output_type": "stream",
     "text": [
      "Epoch: 0 | step: 0 train loss:  4.836156368255615\n",
      "Epoch: 0 | step: 1 train loss:  1629614.625\n",
      "Epoch: 0 | step: 2 train loss:  10.032463073730469\n",
      "Epoch: 0 | step: 3 train loss:  3.548372983932495\n",
      "Epoch: 0 | step: 4 train loss:  0.6919246912002563\n",
      "Epoch: 0 | step: 5 train loss:  0.7017200589179993\n",
      "Epoch: 0 | step: 6 train loss:  0.6926011443138123\n",
      "Epoch: 0 | step: 7 train loss:  0.6934135556221008\n",
      "Epoch: 0 | step: 8 train loss:  0.6933775544166565\n",
      "Epoch: 0 | step: 9 train loss:  0.6929656267166138\n"
     ]
    }
   ],
   "source": [
    "losslst = []\n",
    "for epoch in range(EPOCH):   # train entire dataset EPOCH times\n",
    "    for step, (batch_x, batch_y) in enumerate(loader):  # for each training step\n",
    "        print('Epoch:', epoch, '| step:', step, end = ' ')\n",
    "        #print('| batch_x:', batch_x.shape, '| batch_y: ', batch_y.shape, end = '')\n",
    "        batch_x = Variable(batch_x)\n",
    "        batch_y = Variable(batch_y)\n",
    "        out = cnn(batch_x)[0]\n",
    "        #print('| out: ', out.shape, end = '')\n",
    "        loss = loss_func(out, batch_y)\n",
    "        optimizer.zero_grad()\n",
    "        loss.backward()\n",
    "        optimizer.step()\n",
    "        print('train loss: ', loss.data[0])\n",
    "        losslst.append(loss.data[0])\n",
    "    epoch = epoch + 1"
   ]
  },
  {
   "cell_type": "code",
   "execution_count": 29,
   "metadata": {},
   "outputs": [
    {
     "data": {
      "image/png": "[encoded data removed]",
      "text/plain": [
       "<matplotlib.figure.Figure at 0x7f0d8750b6d8>"
      ]
     },
     "metadata": {},
     "output_type": "display_data"
    }
   ],
   "source": [
    "plt.figure(figsize=(18,9)) # set the figure size to 18 x 9 inches\n",
    "plt.plot(losslst, color = 'red')\n",
    "plt.show()"
   ]
  }
 ],
 "metadata": {
  "kernelspec": {
   "display_name": "Python 3.6",
   "language": "python",
   "name": "python36"
  },
  "language_info": {
   "codemirror_mode": {
    "name": "ipython",
    "version": 3
   },
   "file_extension": ".py",
   "mimetype": "text/x-python",
   "name": "python",
   "nbconvert_exporter": "python",
   "pygments_lexer": "ipython3",
   "version": "3.6.3"
  }
 },
 "nbformat": 4,
 "nbformat_minor": 2
}
