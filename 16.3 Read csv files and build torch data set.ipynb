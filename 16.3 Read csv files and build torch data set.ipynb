{
 "cells": [
  {
   "cell_type": "code",
   "execution_count": 14,
   "metadata": {},
   "outputs": [],
   "source": [
    "import torch\n",
    "import torch.utils.data as Data\n",
    "import pandas as pd\n",
    "import os"
   ]
  },
  {
   "cell_type": "markdown",
   "metadata": {},
   "source": [
    "# Read csv files in a folder and build training data set"
   ]
  },
  {
   "cell_type": "code",
   "execution_count": 8,
   "metadata": {},
   "outputs": [],
   "source": [
    "Train_DIR = \"C:/Users/ADMIN/Desktop/train\"\n",
    "Test_DIR = \"C:/Users/ADMIN/Desktop/test\""
   ]
  },
  {
   "cell_type": "code",
   "execution_count": 11,
   "metadata": {},
   "outputs": [],
   "source": [
    "def Read_3MTUG_files(DIR_PATH):\n",
    "    fileNo = 0\n",
    "    fnamelst = []\n",
    "    for fname in os.listdir(DIR_PATH):\n",
    "        if fname.endswith(\".csv\"):\n",
    "            fnamelst.append(fname)\n",
    "            fileNo = fileNo +1\n",
    "            fname_with_path = DIR_PATH + '/' + fname\n",
    "            df = pd.read_csv(fname_with_path,usecols=[1, 2, 3])\n",
    "            tensor = torch.FloatTensor(df[['AccX', 'AccY', 'AccZ']].values.tolist())\n",
    "            tensor = tensor.view(1, 3000, 3)\n",
    "            if(fileNo == 1):\n",
    "                resultx = tensor\n",
    "            else:\n",
    "                resultx = torch.cat((resultx, tensor), 0)\n",
    "\n",
    "            test = fname.split('_')\n",
    "            if(test[0] == 'W'):\n",
    "                y= torch.FloatTensor([0,1]).view(1, 1, 2)\n",
    "            else:\n",
    "                y= torch.FloatTensor([1,0]).view(1, 1, 2)\n",
    "            if(fileNo == 1):\n",
    "                resulty = y\n",
    "            else:\n",
    "                resulty = torch.cat((resulty, y), 0)\n",
    "    return resultx, resulty, fnamelst"
   ]
  },
  {
   "cell_type": "code",
   "execution_count": 12,
   "metadata": {},
   "outputs": [],
   "source": [
    "train_x, train_y, fnamelst1 = Read_3MTUG_files(Train_DIR)\n",
    "test_x, test_y, fnamelst2 = Read_3MTUG_files(Test_DIR)"
   ]
  },
  {
   "cell_type": "markdown",
   "metadata": {},
   "source": [
    "# Build data loader"
   ]
  },
  {
   "cell_type": "code",
   "execution_count": 15,
   "metadata": {},
   "outputs": [],
   "source": [
    "torch_dataset = Data.TensorDataset(data_tensor=train_x, target_tensor=train_y)"
   ]
  },
  {
   "cell_type": "code",
   "execution_count": 16,
   "metadata": {},
   "outputs": [],
   "source": [
    "loader = Data.DataLoader(\n",
    "    dataset=torch_dataset,      # torch TensorDataset format\n",
    "    batch_size=10,      # mini batch size\n",
    "    shuffle=True,               # random shuffle for training\n",
    "    num_workers=2,              # subprocesses for loading data\n",
    ")"
   ]
  },
  {
   "cell_type": "code",
   "execution_count": 18,
   "metadata": {},
   "outputs": [
    {
     "name": "stdout",
     "output_type": "stream",
     "text": [
      "Epoch:  0 | Step:  0 | batch x:  (10, 3000, 3) | batch y:  (10, 1, 2)\n",
      "Epoch:  0 | Step:  1 | batch x:  (10, 3000, 3) | batch y:  (10, 1, 2)\n",
      "Epoch:  0 | Step:  2 | batch x:  (10, 3000, 3) | batch y:  (10, 1, 2)\n",
      "Epoch:  0 | Step:  3 | batch x:  (10, 3000, 3) | batch y:  (10, 1, 2)\n",
      "Epoch:  0 | Step:  4 | batch x:  (10, 3000, 3) | batch y:  (10, 1, 2)\n",
      "Epoch:  0 | Step:  5 | batch x:  (10, 3000, 3) | batch y:  (10, 1, 2)\n",
      "Epoch:  0 | Step:  6 | batch x:  (10, 3000, 3) | batch y:  (10, 1, 2)\n",
      "Epoch:  0 | Step:  7 | batch x:  (10, 3000, 3) | batch y:  (10, 1, 2)\n",
      "Epoch:  0 | Step:  8 | batch x:  (1, 3000, 3) | batch y:  (1, 1, 2)\n",
      "Epoch:  1 | Step:  0 | batch x:  (10, 3000, 3) | batch y:  (10, 1, 2)\n",
      "Epoch:  1 | Step:  1 | batch x:  (10, 3000, 3) | batch y:  (10, 1, 2)\n",
      "Epoch:  1 | Step:  2 | batch x:  (10, 3000, 3) | batch y:  (10, 1, 2)\n",
      "Epoch:  1 | Step:  3 | batch x:  (10, 3000, 3) | batch y:  (10, 1, 2)\n",
      "Epoch:  1 | Step:  4 | batch x:  (10, 3000, 3) | batch y:  (10, 1, 2)\n",
      "Epoch:  1 | Step:  5 | batch x:  (10, 3000, 3) | batch y:  (10, 1, 2)\n",
      "Epoch:  1 | Step:  6 | batch x:  (10, 3000, 3) | batch y:  (10, 1, 2)\n",
      "Epoch:  1 | Step:  7 | batch x:  (10, 3000, 3) | batch y:  (10, 1, 2)\n",
      "Epoch:  1 | Step:  8 | batch x:  (1, 3000, 3) | batch y:  (1, 1, 2)\n",
      "Epoch:  2 | Step:  0 | batch x:  (10, 3000, 3) | batch y:  (10, 1, 2)\n",
      "Epoch:  2 | Step:  1 | batch x:  (10, 3000, 3) | batch y:  (10, 1, 2)\n",
      "Epoch:  2 | Step:  2 | batch x:  (10, 3000, 3) | batch y:  (10, 1, 2)\n",
      "Epoch:  2 | Step:  3 | batch x:  (10, 3000, 3) | batch y:  (10, 1, 2)\n",
      "Epoch:  2 | Step:  4 | batch x:  (10, 3000, 3) | batch y:  (10, 1, 2)\n",
      "Epoch:  2 | Step:  5 | batch x:  (10, 3000, 3) | batch y:  (10, 1, 2)\n",
      "Epoch:  2 | Step:  6 | batch x:  (10, 3000, 3) | batch y:  (10, 1, 2)\n",
      "Epoch:  2 | Step:  7 | batch x:  (10, 3000, 3) | batch y:  (10, 1, 2)\n",
      "Epoch:  2 | Step:  8 | batch x:  (1, 3000, 3) | batch y:  (1, 1, 2)\n"
     ]
    }
   ],
   "source": [
    "for epoch in range(3):   # train entire dataset 3 times\n",
    "    for step, (batch_x, batch_y) in enumerate(loader):  # for each training step\n",
    "        # train your data...\n",
    "        print('Epoch: ', epoch, '| Step: ', step, '| batch x: ', batch_x.numpy().shape, '| batch y: ', batch_y.numpy().shape)"
   ]
  },
  {
   "cell_type": "code",
   "execution_count": null,
   "metadata": {},
   "outputs": [],
   "source": []
  }
 ],
 "metadata": {
  "kernelspec": {
   "display_name": "Python 3",
   "language": "python",
   "name": "python3"
  },
  "language_info": {
   "codemirror_mode": {
    "name": "ipython",
    "version": 3
   },
   "file_extension": ".py",
   "mimetype": "text/x-python",
   "name": "python",
   "nbconvert_exporter": "python",
   "pygments_lexer": "ipython3",
   "version": "3.6.3"
  }
 },
 "nbformat": 4,
 "nbformat_minor": 2
}
