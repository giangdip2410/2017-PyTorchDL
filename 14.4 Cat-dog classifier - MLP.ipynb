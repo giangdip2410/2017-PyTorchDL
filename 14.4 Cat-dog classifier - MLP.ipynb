{
 "cells": [
  {
   "cell_type": "code",
   "execution_count": 1,
   "metadata": {},
   "outputs": [],
   "source": [
    "import torch\n",
    "from torch.autograd import Variable\n",
    "import torch.nn.functional as F\n",
    "import torch.utils.data as Data  \n",
    "import matplotlib.pyplot as plt"
   ]
  },
  {
   "cell_type": "code",
   "execution_count": 2,
   "metadata": {},
   "outputs": [],
   "source": [
    "IMG_SIZE = 80\n",
    "BATCH_SIZE = 30\n",
    "EPOCH = 2"
   ]
  },
  {
   "cell_type": "markdown",
   "metadata": {},
   "source": [
    "# Load the input tensor we saved in earlier practice"
   ]
  },
  {
   "cell_type": "code",
   "execution_count": 3,
   "metadata": {},
   "outputs": [],
   "source": [
    "train_x = torch.load('./train_x.tensor')  \n",
    "train_y = torch.load('./train_y.tensor')  "
   ]
  },
  {
   "cell_type": "code",
   "execution_count": 4,
   "metadata": {},
   "outputs": [],
   "source": [
    "train_x = train_x.type(torch.FloatTensor)"
   ]
  },
  {
   "cell_type": "code",
   "execution_count": 5,
   "metadata": {},
   "outputs": [
    {
     "data": {
      "text/plain": [
       "torch.Size([400, 80, 80, 3])"
      ]
     },
     "execution_count": 5,
     "metadata": {},
     "output_type": "execute_result"
    }
   ],
   "source": [
    "train_x.shape"
   ]
  },
  {
   "cell_type": "code",
   "execution_count": 6,
   "metadata": {},
   "outputs": [],
   "source": [
    "train_y = train_y.type(torch.LongTensor)"
   ]
  },
  {
   "cell_type": "code",
   "execution_count": 7,
   "metadata": {},
   "outputs": [
    {
     "data": {
      "text/plain": [
       "torch.Size([400, 1])"
      ]
     },
     "execution_count": 7,
     "metadata": {},
     "output_type": "execute_result"
    }
   ],
   "source": [
    "train_y.shape"
   ]
  },
  {
   "cell_type": "code",
   "execution_count": 8,
   "metadata": {},
   "outputs": [],
   "source": [
    "train_y = train_y.view(400)"
   ]
  },
  {
   "cell_type": "code",
   "execution_count": 9,
   "metadata": {},
   "outputs": [
    {
     "data": {
      "text/plain": [
       "torch.Size([400])"
      ]
     },
     "execution_count": 9,
     "metadata": {},
     "output_type": "execute_result"
    }
   ],
   "source": [
    "train_y.shape"
   ]
  },
  {
   "cell_type": "markdown",
   "metadata": {},
   "source": [
    "# Expand input tensor from 80x80x3 to 19200"
   ]
  },
  {
   "cell_type": "code",
   "execution_count": 10,
   "metadata": {},
   "outputs": [],
   "source": [
    "train_x = train_x.view(400, 19200)"
   ]
  },
  {
   "cell_type": "code",
   "execution_count": 11,
   "metadata": {},
   "outputs": [
    {
     "data": {
      "text/plain": [
       "torch.Size([400, 19200])"
      ]
     },
     "execution_count": 11,
     "metadata": {},
     "output_type": "execute_result"
    }
   ],
   "source": [
    "train_x.shape"
   ]
  },
  {
   "cell_type": "markdown",
   "metadata": {},
   "source": [
    "# Build tensor data set and data loader "
   ]
  },
  {
   "cell_type": "code",
   "execution_count": 12,
   "metadata": {},
   "outputs": [],
   "source": [
    "torch_dataset = Data.TensorDataset(data_tensor=train_x, target_tensor=train_y)"
   ]
  },
  {
   "cell_type": "code",
   "execution_count": 13,
   "metadata": {},
   "outputs": [],
   "source": [
    "loader = Data.DataLoader(\n",
    "    dataset=torch_dataset,     # torch TensorDataset format\n",
    "    batch_size=BATCH_SIZE,       # mini batch size\n",
    "    shuffle=True,               # random shuffle for training\n",
    "    num_workers=2,              # subprocesses for loading data\n",
    ")"
   ]
  },
  {
   "cell_type": "markdown",
   "metadata": {},
   "source": [
    "# Define and build MLP"
   ]
  },
  {
   "cell_type": "code",
   "execution_count": 14,
   "metadata": {},
   "outputs": [],
   "source": [
    "class Net(torch.nn.Module):\n",
    "    def __init__(self, n_feature, n_hidden, n_output):\n",
    "        super(Net, self).__init__()\n",
    "        self.hidden = torch.nn.Linear(n_feature, n_hidden)\n",
    "        self.predict = torch.nn.Linear(n_hidden, n_output)\n",
    "    \n",
    "    def forward(self, x):\n",
    "        x = F.relu(self.hidden(x))\n",
    "        x = self.predict(x)\n",
    "        return x"
   ]
  },
  {
   "cell_type": "code",
   "execution_count": 15,
   "metadata": {},
   "outputs": [],
   "source": [
    "net = Net(19200 , 2000, 2)"
   ]
  },
  {
   "cell_type": "code",
   "execution_count": 16,
   "metadata": {},
   "outputs": [
    {
     "data": {
      "text/plain": [
       "Net(\n",
       "  (hidden): Linear(in_features=19200, out_features=2000, bias=True)\n",
       "  (predict): Linear(in_features=2000, out_features=2, bias=True)\n",
       ")"
      ]
     },
     "execution_count": 16,
     "metadata": {},
     "output_type": "execute_result"
    }
   ],
   "source": [
    "net"
   ]
  },
  {
   "cell_type": "code",
   "execution_count": 17,
   "metadata": {},
   "outputs": [],
   "source": [
    "optimizer = torch.optim.SGD(net.parameters(), lr=0.02)"
   ]
  },
  {
   "cell_type": "code",
   "execution_count": 18,
   "metadata": {},
   "outputs": [],
   "source": [
    "loss_func = torch.nn.CrossEntropyLoss()"
   ]
  },
  {
   "cell_type": "markdown",
   "metadata": {},
   "source": [
    "# Test one training epoc"
   ]
  },
  {
   "cell_type": "code",
   "execution_count": 19,
   "metadata": {},
   "outputs": [],
   "source": [
    "for step, (batch_x, batch_y) in enumerate(loader): \n",
    "    break"
   ]
  },
  {
   "cell_type": "code",
   "execution_count": 20,
   "metadata": {},
   "outputs": [
    {
     "name": "stdout",
     "output_type": "stream",
     "text": [
      "0 torch.Size([30, 19200]) torch.Size([30])\n"
     ]
    }
   ],
   "source": [
    "print(step, batch_x.shape, batch_y.shape)"
   ]
  },
  {
   "cell_type": "code",
   "execution_count": 21,
   "metadata": {},
   "outputs": [],
   "source": [
    "batch_x = Variable(batch_x)\n",
    "batch_y = Variable(batch_y)"
   ]
  },
  {
   "cell_type": "code",
   "execution_count": 22,
   "metadata": {},
   "outputs": [],
   "source": [
    "out = net(batch_x)"
   ]
  },
  {
   "cell_type": "code",
   "execution_count": 23,
   "metadata": {},
   "outputs": [
    {
     "data": {
      "text/plain": [
       "Variable containing:\n",
       " 33.3749   5.2484\n",
       "  9.9723  -9.7627\n",
       " 14.9675 -18.0275\n",
       " 15.2193  -6.6575\n",
       "  4.4741 -20.3246\n",
       " -2.6208 -12.2093\n",
       "-15.6300 -17.7369\n",
       " 15.7409 -36.2479\n",
       "  6.2217  -6.2465\n",
       "  4.3776 -18.7360\n",
       "  2.8524 -13.4899\n",
       "  5.1173 -17.7838\n",
       " 12.4185 -50.5215\n",
       " -7.5361   1.2652\n",
       " -1.7827 -21.3903\n",
       "  5.1044   0.0785\n",
       "  9.4842 -28.2751\n",
       "  4.5162 -60.6299\n",
       " -5.7980 -23.8290\n",
       "  2.4293  -6.2177\n",
       " -0.8029  -8.4905\n",
       "  7.8981 -11.0731\n",
       " -4.9618 -24.8892\n",
       "  4.8737   0.1005\n",
       "-21.7295 -11.8289\n",
       " 22.8087  -2.3313\n",
       "  8.2196 -32.6868\n",
       " -4.3226 -33.1386\n",
       "  6.6500 -11.6966\n",
       " 12.3796   8.8357\n",
       "[torch.FloatTensor of size 30x2]"
      ]
     },
     "execution_count": 23,
     "metadata": {},
     "output_type": "execute_result"
    }
   ],
   "source": [
    "out"
   ]
  },
  {
   "cell_type": "code",
   "execution_count": 24,
   "metadata": {},
   "outputs": [
    {
     "name": "stdout",
     "output_type": "stream",
     "text": [
      "Variable containing:\n",
      " 12.7574\n",
      "[torch.FloatTensor of size 1]\n",
      "\n"
     ]
    }
   ],
   "source": [
    "loss = loss_func(out, batch_y)\n",
    "print(loss)"
   ]
  },
  {
   "cell_type": "code",
   "execution_count": 25,
   "metadata": {},
   "outputs": [
    {
     "data": {
      "text/plain": [
       "12.757366180419922"
      ]
     },
     "execution_count": 25,
     "metadata": {},
     "output_type": "execute_result"
    }
   ],
   "source": [
    "loss.data[0]"
   ]
  },
  {
   "cell_type": "markdown",
   "metadata": {},
   "source": [
    "# Train the MLP "
   ]
  },
  {
   "cell_type": "code",
   "execution_count": 26,
   "metadata": {},
   "outputs": [
    {
     "name": "stdout",
     "output_type": "stream",
     "text": [
      "Epoch:  0 | step:  0 | train loss:  14.933029174804688\n",
      "Epoch:  0 | step:  1 | train loss:  14092572.0\n",
      "Epoch:  0 | step:  2 | train loss:  14278909.0\n",
      "Epoch:  0 | step:  3 | train loss:  442.1020202636719\n",
      "Epoch:  0 | step:  4 | train loss:  647.2628173828125\n",
      "Epoch:  0 | step:  5 | train loss:  3546.098876953125\n",
      "Epoch:  0 | step:  6 | train loss:  325.0882568359375\n",
      "Epoch:  0 | step:  7 | train loss:  461204.9375\n",
      "Epoch:  0 | step:  8 | train loss:  176.37623596191406\n",
      "Epoch:  0 | step:  9 | train loss:  0.7053111791610718\n",
      "Epoch:  0 | step:  10 | train loss:  3.9533703327178955\n",
      "Epoch:  0 | step:  11 | train loss:  2097.26318359375\n",
      "Epoch:  0 | step:  12 | train loss:  213257.71875\n",
      "Epoch:  0 | step:  13 | train loss:  0.765031099319458\n",
      "Epoch:  1 | step:  0 | train loss:  0.6648396253585815\n",
      "Epoch:  1 | step:  1 | train loss:  40.530338287353516\n",
      "Epoch:  1 | step:  2 | train loss:  432878.4375\n",
      "Epoch:  1 | step:  3 | train loss:  8131.88623046875\n",
      "Epoch:  1 | step:  4 | train loss:  57.40754318237305\n",
      "Epoch:  1 | step:  5 | train loss:  4.429756164550781\n",
      "Epoch:  1 | step:  6 | train loss:  85.48515319824219\n",
      "Epoch:  1 | step:  7 | train loss:  92.4580078125\n",
      "Epoch:  1 | step:  8 | train loss:  0.6938012838363647\n",
      "Epoch:  1 | step:  9 | train loss:  0.693091094493866\n",
      "Epoch:  1 | step:  10 | train loss:  0.7340747117996216\n",
      "Epoch:  1 | step:  11 | train loss:  63.7240104675293\n",
      "Epoch:  1 | step:  12 | train loss:  31998.0234375\n",
      "Epoch:  1 | step:  13 | train loss:  8.887483596801758\n"
     ]
    }
   ],
   "source": [
    "losslst = []\n",
    "for epoch in range(EPOCH):   # train entire dataset EPOCH times\n",
    "    for step, (batch_x, batch_y) in enumerate(loader):  # for each training step\n",
    "        #print('batch_x = ', batch_x.shape, 'batch_y = ', batch_y.shape)\n",
    "        batch_x = Variable(batch_x)\n",
    "        batch_y = Variable(batch_y)\n",
    "        out = net(batch_x)\n",
    "        #print('out = ', out.shape)\n",
    "        loss = loss_func(out, batch_y)\n",
    "        optimizer.zero_grad()\n",
    "        loss.backward()\n",
    "        optimizer.step()\n",
    "        print('Epoch: ', epoch, '| step: ', step, '| train loss: ', loss.data[0])\n",
    "        losslst.append(loss.data[0])\n",
    "    epoch = epoch + 1"
   ]
  },
  {
   "cell_type": "code",
   "execution_count": 27,
   "metadata": {},
   "outputs": [
    {
     "data": {
      "image/png": "[encoded data removed]",
      "text/plain": [
       "<matplotlib.figure.Figure at 0x7fb956baf898>"
      ]
     },
     "metadata": {},
     "output_type": "display_data"
    }
   ],
   "source": [
    "plt.figure(figsize=(18,9)) # set the figure size to 18 x 9 inches\n",
    "plt.plot(losslst, color = 'red')\n",
    "plt.show()"
   ]
  },
  {
   "cell_type": "code",
   "execution_count": null,
   "metadata": {},
   "outputs": [],
   "source": []
  }
 ],
 "metadata": {
  "kernelspec": {
   "display_name": "Python 3.6",
   "language": "python",
   "name": "python36"
  },
  "language_info": {
   "codemirror_mode": {
    "name": "ipython",
    "version": 3
   },
   "file_extension": ".py",
   "mimetype": "text/x-python",
   "name": "python",
   "nbconvert_exporter": "python",
   "pygments_lexer": "ipython3",
   "version": "3.6.3"
  }
 },
 "nbformat": 4,
 "nbformat_minor": 2
}
