{
 "cells": [
  {
   "cell_type": "markdown",
   "metadata": {},
   "source": [
    "# Output TSEN-based visualization results to csv file"
   ]
  },
  {
   "cell_type": "code",
   "execution_count": 1,
   "metadata": {},
   "outputs": [],
   "source": [
    "import torch\n",
    "from sklearn.manifold import TSNE\n",
    "import pandas as pd"
   ]
  },
  {
   "cell_type": "markdown",
   "metadata": {},
   "source": [
    "# Generate 600 data points x=x1+x2+...+x6, and give each data an id number"
   ]
  },
  {
   "cell_type": "code",
   "execution_count": 2,
   "metadata": {},
   "outputs": [],
   "source": [
    "n_data = torch.ones(100, 1) # [1, 1, 1, ...,1]"
   ]
  },
  {
   "cell_type": "code",
   "execution_count": 3,
   "metadata": {},
   "outputs": [],
   "source": [
    "x11 = torch.normal(-3*n_data, 2)\n",
    "x12 = torch.normal(-3*n_data, 2)\n",
    "x21 = torch.normal(3*n_data, 2)\n",
    "x22 = torch.normal(3*n_data, 2)\n",
    "x31 = torch.normal(0*n_data, 1)\n",
    "x32 = torch.normal(0*n_data, 1)\n",
    "x41 = torch.normal(-2*n_data, 1)\n",
    "x42 = torch.normal(n_data, 1)\n",
    "x51 = torch.normal(0*n_data, 1)\n",
    "x52 = torch.normal(2*n_data, 1)\n",
    "x61 = torch.normal(0*n_data, 1)\n",
    "x62 = torch.normal(-2*n_data, 1)"
   ]
  },
  {
   "cell_type": "code",
   "execution_count": 9,
   "metadata": {},
   "outputs": [],
   "source": [
    "x1=torch.cat((x11, x12), 1)\n",
    "id1= torch.FloatTensor(range(1, 101))  # give each data an ID, this could be file name, subjectID, ...\n",
    "x2=torch.cat((x21, x22), 1)\n",
    "id2= torch.FloatTensor(range(101, 201))\n",
    "x3=torch.cat((x31, x32), 1)\n",
    "id3= torch.FloatTensor(range(201, 301))\n",
    "x4=torch.cat((x41, x42), 1)\n",
    "id4= torch.FloatTensor(range(301, 401))\n",
    "x5=torch.cat((x51, x52), 1)\n",
    "id5= torch.FloatTensor(range(401, 501))\n",
    "x6=torch.cat((x61, x62), 1)\n",
    "id6= torch.FloatTensor(range(501, 601))"
   ]
  },
  {
   "cell_type": "code",
   "execution_count": 10,
   "metadata": {},
   "outputs": [],
   "source": [
    "x = torch.cat((x1, x2), 0)\n",
    "x = torch.cat((x, x3), 0)\n",
    "x = torch.cat((x, x4), 0)\n",
    "x = torch.cat((x, x5), 0) \n",
    "x = torch.cat((x, x6), 0).type(torch.FloatTensor)"
   ]
  },
  {
   "cell_type": "code",
   "execution_count": 11,
   "metadata": {},
   "outputs": [],
   "source": [
    "xid = torch.cat((id1, id2), 0)\n",
    "xid = torch.cat((xid, id3), 0)\n",
    "xid = torch.cat((xid, id4), 0)\n",
    "xid = torch.cat((xid, id5), 0)\n",
    "xid = torch.cat((xid, id6), 0)"
   ]
  },
  {
   "cell_type": "markdown",
   "metadata": {},
   "source": [
    "# After TSEN-based visualization, suppose we want to output the cluters generated using perplexity = p, initialization = 'pca'"
   ]
  },
  {
   "cell_type": "markdown",
   "metadata": {},
   "source": [
    "### Perform TSEN on input x, this will give each x a 2-d projection values"
   ]
  },
  {
   "cell_type": "code",
   "execution_count": 12,
   "metadata": {},
   "outputs": [],
   "source": [
    "tsne = TSNE(perplexity=5, n_components=2, init='pca', n_iter=5000)\n",
    "x1 = tsne.fit_transform(x.numpy())"
   ]
  },
  {
   "cell_type": "code",
   "execution_count": 13,
   "metadata": {},
   "outputs": [
    {
     "data": {
      "text/plain": [
       "(600, 2)"
      ]
     },
     "execution_count": 13,
     "metadata": {},
     "output_type": "execute_result"
    }
   ],
   "source": [
    "x1.shape"
   ]
  },
  {
   "cell_type": "markdown",
   "metadata": {},
   "source": [
    "### Convert TSEN output format from numpy to torch "
   ]
  },
  {
   "cell_type": "code",
   "execution_count": 14,
   "metadata": {},
   "outputs": [],
   "source": [
    "x1 = torch.from_numpy(x1)"
   ]
  },
  {
   "cell_type": "code",
   "execution_count": 15,
   "metadata": {},
   "outputs": [
    {
     "data": {
      "text/plain": [
       "torch.Size([600, 2])"
      ]
     },
     "execution_count": 15,
     "metadata": {},
     "output_type": "execute_result"
    }
   ],
   "source": [
    "x1.shape"
   ]
  },
  {
   "cell_type": "markdown",
   "metadata": {},
   "source": [
    "### Combine each data's id with its TSEN 2D projection "
   ]
  },
  {
   "cell_type": "code",
   "execution_count": 16,
   "metadata": {},
   "outputs": [],
   "source": [
    "xid = xid.view(600, 1)"
   ]
  },
  {
   "cell_type": "code",
   "execution_count": 18,
   "metadata": {},
   "outputs": [],
   "source": [
    "out = torch.cat((xid, x1), 1)"
   ]
  },
  {
   "cell_type": "code",
   "execution_count": 19,
   "metadata": {},
   "outputs": [
    {
     "data": {
      "text/plain": [
       "torch.Size([600, 3])"
      ]
     },
     "execution_count": 19,
     "metadata": {},
     "output_type": "execute_result"
    }
   ],
   "source": [
    "out.shape"
   ]
  },
  {
   "cell_type": "markdown",
   "metadata": {},
   "source": [
    "### Use panda to output the tensor to a csv file"
   ]
  },
  {
   "cell_type": "code",
   "execution_count": 22,
   "metadata": {},
   "outputs": [],
   "source": [
    "df = pd.DataFrame(out.numpy(), columns = [\"ID\", \"x\", \"y\"])"
   ]
  },
  {
   "cell_type": "code",
   "execution_count": 23,
   "metadata": {},
   "outputs": [],
   "source": [
    "df.to_csv(\"C:/Users/ADMIN/Desktop/out.csv\", index=False)"
   ]
  },
  {
   "cell_type": "code",
   "execution_count": null,
   "metadata": {},
   "outputs": [],
   "source": []
  }
 ],
 "metadata": {
  "kernelspec": {
   "display_name": "Python 3",
   "language": "python",
   "name": "python3"
  },
  "language_info": {
   "codemirror_mode": {
    "name": "ipython",
    "version": 3
   },
   "file_extension": ".py",
   "mimetype": "text/x-python",
   "name": "python",
   "nbconvert_exporter": "python",
   "pygments_lexer": "ipython3",
   "version": "3.6.3"
  }
 },
 "nbformat": 4,
 "nbformat_minor": 2
}
